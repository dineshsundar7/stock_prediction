{
 "cells": [
  {
   "cell_type": "code",
   "execution_count": 1,
   "id": "7134dbc3",
   "metadata": {
    "_cell_guid": "b1076dfc-b9ad-4769-8c92-a6c4dae69d19",
    "_uuid": "8f2839f25d086af736a60e9eeb907d3b93b6e0e5",
    "execution": {
     "iopub.execute_input": "2022-08-11T16:32:42.186179Z",
     "iopub.status.busy": "2022-08-11T16:32:42.185206Z",
     "iopub.status.idle": "2022-08-11T16:32:42.203052Z",
     "shell.execute_reply": "2022-08-11T16:32:42.202147Z"
    },
    "papermill": {
     "duration": 0.031931,
     "end_time": "2022-08-11T16:32:42.206543",
     "exception": false,
     "start_time": "2022-08-11T16:32:42.174612",
     "status": "completed"
    },
    "tags": []
   },
   "outputs": [],
   "source": [
    "import pandas as pd\n",
    "import numpy as np\n",
    "import matplotlib.pyplot as plt"
   ]
  },
  {
   "cell_type": "code",
   "execution_count": 2,
   "id": "f37632ed",
   "metadata": {
    "execution": {
     "iopub.execute_input": "2022-08-11T16:32:42.221769Z",
     "iopub.status.busy": "2022-08-11T16:32:42.220727Z",
     "iopub.status.idle": "2022-08-11T16:32:42.272201Z",
     "shell.execute_reply": "2022-08-11T16:32:42.270913Z"
    },
    "papermill": {
     "duration": 0.061561,
     "end_time": "2022-08-11T16:32:42.275099",
     "exception": false,
     "start_time": "2022-08-11T16:32:42.213538",
     "status": "completed"
    },
    "tags": []
   },
   "outputs": [
    {
     "data": {
      "text/html": [
       "<div>\n",
       "<style scoped>\n",
       "    .dataframe tbody tr th:only-of-type {\n",
       "        vertical-align: middle;\n",
       "    }\n",
       "\n",
       "    .dataframe tbody tr th {\n",
       "        vertical-align: top;\n",
       "    }\n",
       "\n",
       "    .dataframe thead th {\n",
       "        text-align: right;\n",
       "    }\n",
       "</style>\n",
       "<table border=\"1\" class=\"dataframe\">\n",
       "  <thead>\n",
       "    <tr style=\"text-align: right;\">\n",
       "      <th></th>\n",
       "      <th>symbol</th>\n",
       "      <th>close</th>\n",
       "      <th>high</th>\n",
       "      <th>low</th>\n",
       "      <th>open</th>\n",
       "      <th>volume</th>\n",
       "    </tr>\n",
       "    <tr>\n",
       "      <th>date</th>\n",
       "      <th></th>\n",
       "      <th></th>\n",
       "      <th></th>\n",
       "      <th></th>\n",
       "      <th></th>\n",
       "      <th></th>\n",
       "    </tr>\n",
       "  </thead>\n",
       "  <tbody>\n",
       "    <tr>\n",
       "      <th>2016-06-14 00:00:00+00:00</th>\n",
       "      <td>GOOG</td>\n",
       "      <td>718.27</td>\n",
       "      <td>722.470</td>\n",
       "      <td>713.1200</td>\n",
       "      <td>716.48</td>\n",
       "      <td>1306065</td>\n",
       "    </tr>\n",
       "    <tr>\n",
       "      <th>2016-06-15 00:00:00+00:00</th>\n",
       "      <td>GOOG</td>\n",
       "      <td>718.92</td>\n",
       "      <td>722.980</td>\n",
       "      <td>717.3100</td>\n",
       "      <td>719.00</td>\n",
       "      <td>1214517</td>\n",
       "    </tr>\n",
       "    <tr>\n",
       "      <th>2016-06-16 00:00:00+00:00</th>\n",
       "      <td>GOOG</td>\n",
       "      <td>710.36</td>\n",
       "      <td>716.650</td>\n",
       "      <td>703.2600</td>\n",
       "      <td>714.91</td>\n",
       "      <td>1982471</td>\n",
       "    </tr>\n",
       "    <tr>\n",
       "      <th>2016-06-17 00:00:00+00:00</th>\n",
       "      <td>GOOG</td>\n",
       "      <td>691.72</td>\n",
       "      <td>708.820</td>\n",
       "      <td>688.4515</td>\n",
       "      <td>708.65</td>\n",
       "      <td>3402357</td>\n",
       "    </tr>\n",
       "    <tr>\n",
       "      <th>2016-06-20 00:00:00+00:00</th>\n",
       "      <td>GOOG</td>\n",
       "      <td>693.71</td>\n",
       "      <td>702.480</td>\n",
       "      <td>693.4100</td>\n",
       "      <td>698.77</td>\n",
       "      <td>2082538</td>\n",
       "    </tr>\n",
       "    <tr>\n",
       "      <th>...</th>\n",
       "      <td>...</td>\n",
       "      <td>...</td>\n",
       "      <td>...</td>\n",
       "      <td>...</td>\n",
       "      <td>...</td>\n",
       "      <td>...</td>\n",
       "    </tr>\n",
       "    <tr>\n",
       "      <th>2021-06-07 00:00:00+00:00</th>\n",
       "      <td>GOOG</td>\n",
       "      <td>2466.09</td>\n",
       "      <td>2468.000</td>\n",
       "      <td>2441.0725</td>\n",
       "      <td>2451.32</td>\n",
       "      <td>1192453</td>\n",
       "    </tr>\n",
       "    <tr>\n",
       "      <th>2021-06-08 00:00:00+00:00</th>\n",
       "      <td>GOOG</td>\n",
       "      <td>2482.85</td>\n",
       "      <td>2494.495</td>\n",
       "      <td>2468.2400</td>\n",
       "      <td>2479.90</td>\n",
       "      <td>1253253</td>\n",
       "    </tr>\n",
       "    <tr>\n",
       "      <th>2021-06-09 00:00:00+00:00</th>\n",
       "      <td>GOOG</td>\n",
       "      <td>2491.40</td>\n",
       "      <td>2505.000</td>\n",
       "      <td>2487.3300</td>\n",
       "      <td>2499.50</td>\n",
       "      <td>1006337</td>\n",
       "    </tr>\n",
       "    <tr>\n",
       "      <th>2021-06-10 00:00:00+00:00</th>\n",
       "      <td>GOOG</td>\n",
       "      <td>2521.60</td>\n",
       "      <td>2523.260</td>\n",
       "      <td>2494.0000</td>\n",
       "      <td>2494.01</td>\n",
       "      <td>1561733</td>\n",
       "    </tr>\n",
       "    <tr>\n",
       "      <th>2021-06-11 00:00:00+00:00</th>\n",
       "      <td>GOOG</td>\n",
       "      <td>2513.93</td>\n",
       "      <td>2526.990</td>\n",
       "      <td>2498.2900</td>\n",
       "      <td>2524.92</td>\n",
       "      <td>1262309</td>\n",
       "    </tr>\n",
       "  </tbody>\n",
       "</table>\n",
       "<p>1258 rows × 6 columns</p>\n",
       "</div>"
      ],
      "text/plain": [
       "                          symbol    close      high        low     open  \\\n",
       "date                                                                      \n",
       "2016-06-14 00:00:00+00:00   GOOG   718.27   722.470   713.1200   716.48   \n",
       "2016-06-15 00:00:00+00:00   GOOG   718.92   722.980   717.3100   719.00   \n",
       "2016-06-16 00:00:00+00:00   GOOG   710.36   716.650   703.2600   714.91   \n",
       "2016-06-17 00:00:00+00:00   GOOG   691.72   708.820   688.4515   708.65   \n",
       "2016-06-20 00:00:00+00:00   GOOG   693.71   702.480   693.4100   698.77   \n",
       "...                          ...      ...       ...        ...      ...   \n",
       "2021-06-07 00:00:00+00:00   GOOG  2466.09  2468.000  2441.0725  2451.32   \n",
       "2021-06-08 00:00:00+00:00   GOOG  2482.85  2494.495  2468.2400  2479.90   \n",
       "2021-06-09 00:00:00+00:00   GOOG  2491.40  2505.000  2487.3300  2499.50   \n",
       "2021-06-10 00:00:00+00:00   GOOG  2521.60  2523.260  2494.0000  2494.01   \n",
       "2021-06-11 00:00:00+00:00   GOOG  2513.93  2526.990  2498.2900  2524.92   \n",
       "\n",
       "                            volume  \n",
       "date                                \n",
       "2016-06-14 00:00:00+00:00  1306065  \n",
       "2016-06-15 00:00:00+00:00  1214517  \n",
       "2016-06-16 00:00:00+00:00  1982471  \n",
       "2016-06-17 00:00:00+00:00  3402357  \n",
       "2016-06-20 00:00:00+00:00  2082538  \n",
       "...                            ...  \n",
       "2021-06-07 00:00:00+00:00  1192453  \n",
       "2021-06-08 00:00:00+00:00  1253253  \n",
       "2021-06-09 00:00:00+00:00  1006337  \n",
       "2021-06-10 00:00:00+00:00  1561733  \n",
       "2021-06-11 00:00:00+00:00  1262309  \n",
       "\n",
       "[1258 rows x 6 columns]"
      ]
     },
     "execution_count": 2,
     "metadata": {},
     "output_type": "execute_result"
    }
   ],
   "source": [
    "stock=pd.read_csv('../input/stock-predict/GOOG.csv',index_col='date')\n",
    "stock"
   ]
  },
  {
   "cell_type": "code",
   "execution_count": 3,
   "id": "abbc4d6f",
   "metadata": {
    "execution": {
     "iopub.execute_input": "2022-08-11T16:32:42.291595Z",
     "iopub.status.busy": "2022-08-11T16:32:42.291007Z",
     "iopub.status.idle": "2022-08-11T16:32:42.312647Z",
     "shell.execute_reply": "2022-08-11T16:32:42.311556Z"
    },
    "papermill": {
     "duration": 0.033042,
     "end_time": "2022-08-11T16:32:42.316020",
     "exception": false,
     "start_time": "2022-08-11T16:32:42.282978",
     "status": "completed"
    },
    "tags": []
   },
   "outputs": [
    {
     "data": {
      "text/html": [
       "<div>\n",
       "<style scoped>\n",
       "    .dataframe tbody tr th:only-of-type {\n",
       "        vertical-align: middle;\n",
       "    }\n",
       "\n",
       "    .dataframe tbody tr th {\n",
       "        vertical-align: top;\n",
       "    }\n",
       "\n",
       "    .dataframe thead th {\n",
       "        text-align: right;\n",
       "    }\n",
       "</style>\n",
       "<table border=\"1\" class=\"dataframe\">\n",
       "  <thead>\n",
       "    <tr style=\"text-align: right;\">\n",
       "      <th></th>\n",
       "      <th>close</th>\n",
       "      <th>high</th>\n",
       "      <th>low</th>\n",
       "      <th>open</th>\n",
       "      <th>volume</th>\n",
       "    </tr>\n",
       "    <tr>\n",
       "      <th>date</th>\n",
       "      <th></th>\n",
       "      <th></th>\n",
       "      <th></th>\n",
       "      <th></th>\n",
       "      <th></th>\n",
       "    </tr>\n",
       "  </thead>\n",
       "  <tbody>\n",
       "    <tr>\n",
       "      <th>2016-06-14 00:00:00+00:00</th>\n",
       "      <td>718.27</td>\n",
       "      <td>722.470</td>\n",
       "      <td>713.1200</td>\n",
       "      <td>716.48</td>\n",
       "      <td>1306065</td>\n",
       "    </tr>\n",
       "    <tr>\n",
       "      <th>2016-06-15 00:00:00+00:00</th>\n",
       "      <td>718.92</td>\n",
       "      <td>722.980</td>\n",
       "      <td>717.3100</td>\n",
       "      <td>719.00</td>\n",
       "      <td>1214517</td>\n",
       "    </tr>\n",
       "    <tr>\n",
       "      <th>2016-06-16 00:00:00+00:00</th>\n",
       "      <td>710.36</td>\n",
       "      <td>716.650</td>\n",
       "      <td>703.2600</td>\n",
       "      <td>714.91</td>\n",
       "      <td>1982471</td>\n",
       "    </tr>\n",
       "    <tr>\n",
       "      <th>2016-06-17 00:00:00+00:00</th>\n",
       "      <td>691.72</td>\n",
       "      <td>708.820</td>\n",
       "      <td>688.4515</td>\n",
       "      <td>708.65</td>\n",
       "      <td>3402357</td>\n",
       "    </tr>\n",
       "    <tr>\n",
       "      <th>2016-06-20 00:00:00+00:00</th>\n",
       "      <td>693.71</td>\n",
       "      <td>702.480</td>\n",
       "      <td>693.4100</td>\n",
       "      <td>698.77</td>\n",
       "      <td>2082538</td>\n",
       "    </tr>\n",
       "    <tr>\n",
       "      <th>...</th>\n",
       "      <td>...</td>\n",
       "      <td>...</td>\n",
       "      <td>...</td>\n",
       "      <td>...</td>\n",
       "      <td>...</td>\n",
       "    </tr>\n",
       "    <tr>\n",
       "      <th>2021-06-07 00:00:00+00:00</th>\n",
       "      <td>2466.09</td>\n",
       "      <td>2468.000</td>\n",
       "      <td>2441.0725</td>\n",
       "      <td>2451.32</td>\n",
       "      <td>1192453</td>\n",
       "    </tr>\n",
       "    <tr>\n",
       "      <th>2021-06-08 00:00:00+00:00</th>\n",
       "      <td>2482.85</td>\n",
       "      <td>2494.495</td>\n",
       "      <td>2468.2400</td>\n",
       "      <td>2479.90</td>\n",
       "      <td>1253253</td>\n",
       "    </tr>\n",
       "    <tr>\n",
       "      <th>2021-06-09 00:00:00+00:00</th>\n",
       "      <td>2491.40</td>\n",
       "      <td>2505.000</td>\n",
       "      <td>2487.3300</td>\n",
       "      <td>2499.50</td>\n",
       "      <td>1006337</td>\n",
       "    </tr>\n",
       "    <tr>\n",
       "      <th>2021-06-10 00:00:00+00:00</th>\n",
       "      <td>2521.60</td>\n",
       "      <td>2523.260</td>\n",
       "      <td>2494.0000</td>\n",
       "      <td>2494.01</td>\n",
       "      <td>1561733</td>\n",
       "    </tr>\n",
       "    <tr>\n",
       "      <th>2021-06-11 00:00:00+00:00</th>\n",
       "      <td>2513.93</td>\n",
       "      <td>2526.990</td>\n",
       "      <td>2498.2900</td>\n",
       "      <td>2524.92</td>\n",
       "      <td>1262309</td>\n",
       "    </tr>\n",
       "  </tbody>\n",
       "</table>\n",
       "<p>1258 rows × 5 columns</p>\n",
       "</div>"
      ],
      "text/plain": [
       "                             close      high        low     open   volume\n",
       "date                                                                     \n",
       "2016-06-14 00:00:00+00:00   718.27   722.470   713.1200   716.48  1306065\n",
       "2016-06-15 00:00:00+00:00   718.92   722.980   717.3100   719.00  1214517\n",
       "2016-06-16 00:00:00+00:00   710.36   716.650   703.2600   714.91  1982471\n",
       "2016-06-17 00:00:00+00:00   691.72   708.820   688.4515   708.65  3402357\n",
       "2016-06-20 00:00:00+00:00   693.71   702.480   693.4100   698.77  2082538\n",
       "...                            ...       ...        ...      ...      ...\n",
       "2021-06-07 00:00:00+00:00  2466.09  2468.000  2441.0725  2451.32  1192453\n",
       "2021-06-08 00:00:00+00:00  2482.85  2494.495  2468.2400  2479.90  1253253\n",
       "2021-06-09 00:00:00+00:00  2491.40  2505.000  2487.3300  2499.50  1006337\n",
       "2021-06-10 00:00:00+00:00  2521.60  2523.260  2494.0000  2494.01  1561733\n",
       "2021-06-11 00:00:00+00:00  2513.93  2526.990  2498.2900  2524.92  1262309\n",
       "\n",
       "[1258 rows x 5 columns]"
      ]
     },
     "execution_count": 3,
     "metadata": {},
     "output_type": "execute_result"
    }
   ],
   "source": [
    "stock=stock.iloc[:,1:]\n",
    "stock"
   ]
  },
  {
   "cell_type": "code",
   "execution_count": 4,
   "id": "d55c2e14",
   "metadata": {
    "execution": {
     "iopub.execute_input": "2022-08-11T16:32:42.331032Z",
     "iopub.status.busy": "2022-08-11T16:32:42.330625Z",
     "iopub.status.idle": "2022-08-11T16:32:42.340456Z",
     "shell.execute_reply": "2022-08-11T16:32:42.339371Z"
    },
    "papermill": {
     "duration": 0.019667,
     "end_time": "2022-08-11T16:32:42.342561",
     "exception": false,
     "start_time": "2022-08-11T16:32:42.322894",
     "status": "completed"
    },
    "tags": []
   },
   "outputs": [
    {
     "data": {
      "text/plain": [
       "close     False\n",
       "high      False\n",
       "low       False\n",
       "open      False\n",
       "volume    False\n",
       "dtype: bool"
      ]
     },
     "execution_count": 4,
     "metadata": {},
     "output_type": "execute_result"
    }
   ],
   "source": [
    "stock.isna().any()"
   ]
  },
  {
   "cell_type": "code",
   "execution_count": 5,
   "id": "b02d7989",
   "metadata": {
    "execution": {
     "iopub.execute_input": "2022-08-11T16:32:42.358047Z",
     "iopub.status.busy": "2022-08-11T16:32:42.357342Z",
     "iopub.status.idle": "2022-08-11T16:32:42.377144Z",
     "shell.execute_reply": "2022-08-11T16:32:42.375627Z"
    },
    "papermill": {
     "duration": 0.030036,
     "end_time": "2022-08-11T16:32:42.379410",
     "exception": false,
     "start_time": "2022-08-11T16:32:42.349374",
     "status": "completed"
    },
    "tags": []
   },
   "outputs": [
    {
     "name": "stdout",
     "output_type": "stream",
     "text": [
      "<class 'pandas.core.frame.DataFrame'>\n",
      "Index: 1258 entries, 2016-06-14 00:00:00+00:00 to 2021-06-11 00:00:00+00:00\n",
      "Data columns (total 5 columns):\n",
      " #   Column  Non-Null Count  Dtype  \n",
      "---  ------  --------------  -----  \n",
      " 0   close   1258 non-null   float64\n",
      " 1   high    1258 non-null   float64\n",
      " 2   low     1258 non-null   float64\n",
      " 3   open    1258 non-null   float64\n",
      " 4   volume  1258 non-null   int64  \n",
      "dtypes: float64(4), int64(1)\n",
      "memory usage: 59.0+ KB\n"
     ]
    }
   ],
   "source": [
    "stock.info()"
   ]
  },
  {
   "cell_type": "code",
   "execution_count": 6,
   "id": "8174286e",
   "metadata": {
    "execution": {
     "iopub.execute_input": "2022-08-11T16:32:42.394714Z",
     "iopub.status.busy": "2022-08-11T16:32:42.393996Z",
     "iopub.status.idle": "2022-08-11T16:32:42.411956Z",
     "shell.execute_reply": "2022-08-11T16:32:42.409992Z"
    },
    "papermill": {
     "duration": 0.029605,
     "end_time": "2022-08-11T16:32:42.415655",
     "exception": false,
     "start_time": "2022-08-11T16:32:42.386050",
     "status": "completed"
    },
    "tags": []
   },
   "outputs": [
    {
     "data": {
      "text/html": [
       "<div>\n",
       "<style scoped>\n",
       "    .dataframe tbody tr th:only-of-type {\n",
       "        vertical-align: middle;\n",
       "    }\n",
       "\n",
       "    .dataframe tbody tr th {\n",
       "        vertical-align: top;\n",
       "    }\n",
       "\n",
       "    .dataframe thead th {\n",
       "        text-align: right;\n",
       "    }\n",
       "</style>\n",
       "<table border=\"1\" class=\"dataframe\">\n",
       "  <thead>\n",
       "    <tr style=\"text-align: right;\">\n",
       "      <th></th>\n",
       "      <th>high</th>\n",
       "      <th>low</th>\n",
       "      <th>open</th>\n",
       "      <th>volume</th>\n",
       "    </tr>\n",
       "    <tr>\n",
       "      <th>date</th>\n",
       "      <th></th>\n",
       "      <th></th>\n",
       "      <th></th>\n",
       "      <th></th>\n",
       "    </tr>\n",
       "  </thead>\n",
       "  <tbody>\n",
       "    <tr>\n",
       "      <th>2016-06-14 00:00:00+00:00</th>\n",
       "      <td>722.470</td>\n",
       "      <td>713.1200</td>\n",
       "      <td>716.48</td>\n",
       "      <td>1306065</td>\n",
       "    </tr>\n",
       "    <tr>\n",
       "      <th>2016-06-15 00:00:00+00:00</th>\n",
       "      <td>722.980</td>\n",
       "      <td>717.3100</td>\n",
       "      <td>719.00</td>\n",
       "      <td>1214517</td>\n",
       "    </tr>\n",
       "    <tr>\n",
       "      <th>2016-06-16 00:00:00+00:00</th>\n",
       "      <td>716.650</td>\n",
       "      <td>703.2600</td>\n",
       "      <td>714.91</td>\n",
       "      <td>1982471</td>\n",
       "    </tr>\n",
       "    <tr>\n",
       "      <th>2016-06-17 00:00:00+00:00</th>\n",
       "      <td>708.820</td>\n",
       "      <td>688.4515</td>\n",
       "      <td>708.65</td>\n",
       "      <td>3402357</td>\n",
       "    </tr>\n",
       "    <tr>\n",
       "      <th>2016-06-20 00:00:00+00:00</th>\n",
       "      <td>702.480</td>\n",
       "      <td>693.4100</td>\n",
       "      <td>698.77</td>\n",
       "      <td>2082538</td>\n",
       "    </tr>\n",
       "    <tr>\n",
       "      <th>...</th>\n",
       "      <td>...</td>\n",
       "      <td>...</td>\n",
       "      <td>...</td>\n",
       "      <td>...</td>\n",
       "    </tr>\n",
       "    <tr>\n",
       "      <th>2021-06-07 00:00:00+00:00</th>\n",
       "      <td>2468.000</td>\n",
       "      <td>2441.0725</td>\n",
       "      <td>2451.32</td>\n",
       "      <td>1192453</td>\n",
       "    </tr>\n",
       "    <tr>\n",
       "      <th>2021-06-08 00:00:00+00:00</th>\n",
       "      <td>2494.495</td>\n",
       "      <td>2468.2400</td>\n",
       "      <td>2479.90</td>\n",
       "      <td>1253253</td>\n",
       "    </tr>\n",
       "    <tr>\n",
       "      <th>2021-06-09 00:00:00+00:00</th>\n",
       "      <td>2505.000</td>\n",
       "      <td>2487.3300</td>\n",
       "      <td>2499.50</td>\n",
       "      <td>1006337</td>\n",
       "    </tr>\n",
       "    <tr>\n",
       "      <th>2021-06-10 00:00:00+00:00</th>\n",
       "      <td>2523.260</td>\n",
       "      <td>2494.0000</td>\n",
       "      <td>2494.01</td>\n",
       "      <td>1561733</td>\n",
       "    </tr>\n",
       "    <tr>\n",
       "      <th>2021-06-11 00:00:00+00:00</th>\n",
       "      <td>2526.990</td>\n",
       "      <td>2498.2900</td>\n",
       "      <td>2524.92</td>\n",
       "      <td>1262309</td>\n",
       "    </tr>\n",
       "  </tbody>\n",
       "</table>\n",
       "<p>1258 rows × 4 columns</p>\n",
       "</div>"
      ],
      "text/plain": [
       "                               high        low     open   volume\n",
       "date                                                            \n",
       "2016-06-14 00:00:00+00:00   722.470   713.1200   716.48  1306065\n",
       "2016-06-15 00:00:00+00:00   722.980   717.3100   719.00  1214517\n",
       "2016-06-16 00:00:00+00:00   716.650   703.2600   714.91  1982471\n",
       "2016-06-17 00:00:00+00:00   708.820   688.4515   708.65  3402357\n",
       "2016-06-20 00:00:00+00:00   702.480   693.4100   698.77  2082538\n",
       "...                             ...        ...      ...      ...\n",
       "2021-06-07 00:00:00+00:00  2468.000  2441.0725  2451.32  1192453\n",
       "2021-06-08 00:00:00+00:00  2494.495  2468.2400  2479.90  1253253\n",
       "2021-06-09 00:00:00+00:00  2505.000  2487.3300  2499.50  1006337\n",
       "2021-06-10 00:00:00+00:00  2523.260  2494.0000  2494.01  1561733\n",
       "2021-06-11 00:00:00+00:00  2526.990  2498.2900  2524.92  1262309\n",
       "\n",
       "[1258 rows x 4 columns]"
      ]
     },
     "execution_count": 6,
     "metadata": {},
     "output_type": "execute_result"
    }
   ],
   "source": [
    "d=stock[\"close\"]\n",
    "i=stock.iloc[:,1:5]\n",
    "i"
   ]
  },
  {
   "cell_type": "code",
   "execution_count": 7,
   "id": "1bcc18cc",
   "metadata": {
    "execution": {
     "iopub.execute_input": "2022-08-11T16:32:42.436467Z",
     "iopub.status.busy": "2022-08-11T16:32:42.435831Z",
     "iopub.status.idle": "2022-08-11T16:32:43.514977Z",
     "shell.execute_reply": "2022-08-11T16:32:43.513932Z"
    },
    "papermill": {
     "duration": 1.091013,
     "end_time": "2022-08-11T16:32:43.517440",
     "exception": false,
     "start_time": "2022-08-11T16:32:42.426427",
     "status": "completed"
    },
    "tags": []
   },
   "outputs": [
    {
     "data": {
      "text/html": [
       "<div>\n",
       "<style scoped>\n",
       "    .dataframe tbody tr th:only-of-type {\n",
       "        vertical-align: middle;\n",
       "    }\n",
       "\n",
       "    .dataframe tbody tr th {\n",
       "        vertical-align: top;\n",
       "    }\n",
       "\n",
       "    .dataframe thead th {\n",
       "        text-align: right;\n",
       "    }\n",
       "</style>\n",
       "<table border=\"1\" class=\"dataframe\">\n",
       "  <thead>\n",
       "    <tr style=\"text-align: right;\">\n",
       "      <th></th>\n",
       "      <th>high</th>\n",
       "      <th>low</th>\n",
       "      <th>open</th>\n",
       "      <th>volume</th>\n",
       "    </tr>\n",
       "    <tr>\n",
       "      <th>date</th>\n",
       "      <th></th>\n",
       "      <th></th>\n",
       "      <th></th>\n",
       "      <th></th>\n",
       "    </tr>\n",
       "  </thead>\n",
       "  <tbody>\n",
       "    <tr>\n",
       "      <th>2019-01-04 00:00:00+00:00</th>\n",
       "      <td>1070.840</td>\n",
       "      <td>1027.42</td>\n",
       "      <td>1032.59</td>\n",
       "      <td>2093894</td>\n",
       "    </tr>\n",
       "    <tr>\n",
       "      <th>2019-10-07 00:00:00+00:00</th>\n",
       "      <td>1218.200</td>\n",
       "      <td>1203.75</td>\n",
       "      <td>1204.40</td>\n",
       "      <td>867149</td>\n",
       "    </tr>\n",
       "    <tr>\n",
       "      <th>2020-10-23 00:00:00+00:00</th>\n",
       "      <td>1642.360</td>\n",
       "      <td>1620.51</td>\n",
       "      <td>1626.07</td>\n",
       "      <td>1375844</td>\n",
       "    </tr>\n",
       "    <tr>\n",
       "      <th>2017-09-06 00:00:00+00:00</th>\n",
       "      <td>930.915</td>\n",
       "      <td>919.27</td>\n",
       "      <td>930.15</td>\n",
       "      <td>1468808</td>\n",
       "    </tr>\n",
       "    <tr>\n",
       "      <th>2021-03-04 00:00:00+00:00</th>\n",
       "      <td>2089.240</td>\n",
       "      <td>2020.27</td>\n",
       "      <td>2023.37</td>\n",
       "      <td>2118006</td>\n",
       "    </tr>\n",
       "    <tr>\n",
       "      <th>...</th>\n",
       "      <td>...</td>\n",
       "      <td>...</td>\n",
       "      <td>...</td>\n",
       "      <td>...</td>\n",
       "    </tr>\n",
       "    <tr>\n",
       "      <th>2019-06-26 00:00:00+00:00</th>\n",
       "      <td>1092.970</td>\n",
       "      <td>1072.24</td>\n",
       "      <td>1086.50</td>\n",
       "      <td>1810869</td>\n",
       "    </tr>\n",
       "    <tr>\n",
       "      <th>2019-10-08 00:00:00+00:00</th>\n",
       "      <td>1206.080</td>\n",
       "      <td>1189.01</td>\n",
       "      <td>1197.59</td>\n",
       "      <td>1141784</td>\n",
       "    </tr>\n",
       "    <tr>\n",
       "      <th>2021-04-14 00:00:00+00:00</th>\n",
       "      <td>2277.990</td>\n",
       "      <td>2249.19</td>\n",
       "      <td>2275.16</td>\n",
       "      <td>1010967</td>\n",
       "    </tr>\n",
       "    <tr>\n",
       "      <th>2018-08-31 00:00:00+00:00</th>\n",
       "      <td>1238.660</td>\n",
       "      <td>1211.29</td>\n",
       "      <td>1234.98</td>\n",
       "      <td>1816426</td>\n",
       "    </tr>\n",
       "    <tr>\n",
       "      <th>2019-03-05 00:00:00+00:00</th>\n",
       "      <td>1169.610</td>\n",
       "      <td>1146.19</td>\n",
       "      <td>1150.06</td>\n",
       "      <td>1443174</td>\n",
       "    </tr>\n",
       "  </tbody>\n",
       "</table>\n",
       "<p>1069 rows × 4 columns</p>\n",
       "</div>"
      ],
      "text/plain": [
       "                               high      low     open   volume\n",
       "date                                                          \n",
       "2019-01-04 00:00:00+00:00  1070.840  1027.42  1032.59  2093894\n",
       "2019-10-07 00:00:00+00:00  1218.200  1203.75  1204.40   867149\n",
       "2020-10-23 00:00:00+00:00  1642.360  1620.51  1626.07  1375844\n",
       "2017-09-06 00:00:00+00:00   930.915   919.27   930.15  1468808\n",
       "2021-03-04 00:00:00+00:00  2089.240  2020.27  2023.37  2118006\n",
       "...                             ...      ...      ...      ...\n",
       "2019-06-26 00:00:00+00:00  1092.970  1072.24  1086.50  1810869\n",
       "2019-10-08 00:00:00+00:00  1206.080  1189.01  1197.59  1141784\n",
       "2021-04-14 00:00:00+00:00  2277.990  2249.19  2275.16  1010967\n",
       "2018-08-31 00:00:00+00:00  1238.660  1211.29  1234.98  1816426\n",
       "2019-03-05 00:00:00+00:00  1169.610  1146.19  1150.06  1443174\n",
       "\n",
       "[1069 rows x 4 columns]"
      ]
     },
     "execution_count": 7,
     "metadata": {},
     "output_type": "execute_result"
    }
   ],
   "source": [
    "from sklearn.model_selection import train_test_split\n",
    "x_train,x_test,y_train,y_test=train_test_split(i,d,test_size=.15,random_state=0)\n",
    "x_train"
   ]
  },
  {
   "cell_type": "code",
   "execution_count": 8,
   "id": "fa030230",
   "metadata": {
    "execution": {
     "iopub.execute_input": "2022-08-11T16:32:43.534018Z",
     "iopub.status.busy": "2022-08-11T16:32:43.533651Z",
     "iopub.status.idle": "2022-08-11T16:32:43.549189Z",
     "shell.execute_reply": "2022-08-11T16:32:43.548026Z"
    },
    "papermill": {
     "duration": 0.026575,
     "end_time": "2022-08-11T16:32:43.551451",
     "exception": false,
     "start_time": "2022-08-11T16:32:43.524876",
     "status": "completed"
    },
    "tags": []
   },
   "outputs": [
    {
     "data": {
      "text/html": [
       "<div>\n",
       "<style scoped>\n",
       "    .dataframe tbody tr th:only-of-type {\n",
       "        vertical-align: middle;\n",
       "    }\n",
       "\n",
       "    .dataframe tbody tr th {\n",
       "        vertical-align: top;\n",
       "    }\n",
       "\n",
       "    .dataframe thead th {\n",
       "        text-align: right;\n",
       "    }\n",
       "</style>\n",
       "<table border=\"1\" class=\"dataframe\">\n",
       "  <thead>\n",
       "    <tr style=\"text-align: right;\">\n",
       "      <th></th>\n",
       "      <th>high</th>\n",
       "      <th>low</th>\n",
       "      <th>open</th>\n",
       "      <th>volume</th>\n",
       "    </tr>\n",
       "    <tr>\n",
       "      <th>date</th>\n",
       "      <th></th>\n",
       "      <th></th>\n",
       "      <th></th>\n",
       "      <th></th>\n",
       "    </tr>\n",
       "  </thead>\n",
       "  <tbody>\n",
       "    <tr>\n",
       "      <th>2016-06-21 00:00:00+00:00</th>\n",
       "      <td>702.7700</td>\n",
       "      <td>692.01</td>\n",
       "      <td>698.40</td>\n",
       "      <td>1465634</td>\n",
       "    </tr>\n",
       "    <tr>\n",
       "      <th>2018-05-31 00:00:00+00:00</th>\n",
       "      <td>1097.1900</td>\n",
       "      <td>1067.56</td>\n",
       "      <td>1067.56</td>\n",
       "      <td>3088305</td>\n",
       "    </tr>\n",
       "    <tr>\n",
       "      <th>2016-08-26 00:00:00+00:00</th>\n",
       "      <td>776.0799</td>\n",
       "      <td>765.85</td>\n",
       "      <td>769.00</td>\n",
       "      <td>1166681</td>\n",
       "    </tr>\n",
       "    <tr>\n",
       "      <th>2020-05-13 00:00:00+00:00</th>\n",
       "      <td>1385.4800</td>\n",
       "      <td>1328.40</td>\n",
       "      <td>1377.05</td>\n",
       "      <td>1812585</td>\n",
       "    </tr>\n",
       "    <tr>\n",
       "      <th>2017-03-10 00:00:00+00:00</th>\n",
       "      <td>844.9100</td>\n",
       "      <td>839.50</td>\n",
       "      <td>843.28</td>\n",
       "      <td>1704024</td>\n",
       "    </tr>\n",
       "    <tr>\n",
       "      <th>...</th>\n",
       "      <td>...</td>\n",
       "      <td>...</td>\n",
       "      <td>...</td>\n",
       "      <td>...</td>\n",
       "    </tr>\n",
       "    <tr>\n",
       "      <th>2018-01-10 00:00:00+00:00</th>\n",
       "      <td>1104.6000</td>\n",
       "      <td>1096.11</td>\n",
       "      <td>1097.10</td>\n",
       "      <td>1038917</td>\n",
       "    </tr>\n",
       "    <tr>\n",
       "      <th>2019-03-08 00:00:00+00:00</th>\n",
       "      <td>1147.0800</td>\n",
       "      <td>1123.30</td>\n",
       "      <td>1126.73</td>\n",
       "      <td>1212489</td>\n",
       "    </tr>\n",
       "    <tr>\n",
       "      <th>2017-05-17 00:00:00+00:00</th>\n",
       "      <td>939.3330</td>\n",
       "      <td>918.14</td>\n",
       "      <td>935.67</td>\n",
       "      <td>2323389</td>\n",
       "    </tr>\n",
       "    <tr>\n",
       "      <th>2020-07-09 00:00:00+00:00</th>\n",
       "      <td>1522.7200</td>\n",
       "      <td>1488.08</td>\n",
       "      <td>1506.45</td>\n",
       "      <td>1423300</td>\n",
       "    </tr>\n",
       "    <tr>\n",
       "      <th>2020-05-22 00:00:00+00:00</th>\n",
       "      <td>1412.7600</td>\n",
       "      <td>1391.83</td>\n",
       "      <td>1396.71</td>\n",
       "      <td>1309408</td>\n",
       "    </tr>\n",
       "  </tbody>\n",
       "</table>\n",
       "<p>189 rows × 4 columns</p>\n",
       "</div>"
      ],
      "text/plain": [
       "                                high      low     open   volume\n",
       "date                                                           \n",
       "2016-06-21 00:00:00+00:00   702.7700   692.01   698.40  1465634\n",
       "2018-05-31 00:00:00+00:00  1097.1900  1067.56  1067.56  3088305\n",
       "2016-08-26 00:00:00+00:00   776.0799   765.85   769.00  1166681\n",
       "2020-05-13 00:00:00+00:00  1385.4800  1328.40  1377.05  1812585\n",
       "2017-03-10 00:00:00+00:00   844.9100   839.50   843.28  1704024\n",
       "...                              ...      ...      ...      ...\n",
       "2018-01-10 00:00:00+00:00  1104.6000  1096.11  1097.10  1038917\n",
       "2019-03-08 00:00:00+00:00  1147.0800  1123.30  1126.73  1212489\n",
       "2017-05-17 00:00:00+00:00   939.3330   918.14   935.67  2323389\n",
       "2020-07-09 00:00:00+00:00  1522.7200  1488.08  1506.45  1423300\n",
       "2020-05-22 00:00:00+00:00  1412.7600  1391.83  1396.71  1309408\n",
       "\n",
       "[189 rows x 4 columns]"
      ]
     },
     "execution_count": 8,
     "metadata": {},
     "output_type": "execute_result"
    }
   ],
   "source": [
    "x_test"
   ]
  },
  {
   "cell_type": "code",
   "execution_count": 9,
   "id": "32f1fdf1",
   "metadata": {
    "execution": {
     "iopub.execute_input": "2022-08-11T16:32:43.567981Z",
     "iopub.status.busy": "2022-08-11T16:32:43.567585Z",
     "iopub.status.idle": "2022-08-11T16:32:43.861690Z",
     "shell.execute_reply": "2022-08-11T16:32:43.860673Z"
    },
    "papermill": {
     "duration": 0.30524,
     "end_time": "2022-08-11T16:32:43.864075",
     "exception": false,
     "start_time": "2022-08-11T16:32:43.558835",
     "status": "completed"
    },
    "tags": []
   },
   "outputs": [
    {
     "data": {
      "text/plain": [
       "Text(0, 0.5, 'Opening values')"
      ]
     },
     "execution_count": 9,
     "metadata": {},
     "output_type": "execute_result"
    },
    {
     "data": {
      "image/png": "[encoded data removed]",
      "text/plain": [
       "<Figure size 1440x720 with 1 Axes>"
      ]
     },
     "metadata": {
      "needs_background": "light"
     },
     "output_type": "display_data"
    }
   ],
   "source": [
    "stock[\"open\"].plot(figsize=(20,10))\n",
    "plt.ylabel(\"Opening values\")"
   ]
  },
  {
   "cell_type": "code",
   "execution_count": 10,
   "id": "61a344a4",
   "metadata": {
    "execution": {
     "iopub.execute_input": "2022-08-11T16:32:43.883434Z",
     "iopub.status.busy": "2022-08-11T16:32:43.882994Z",
     "iopub.status.idle": "2022-08-11T16:32:44.180752Z",
     "shell.execute_reply": "2022-08-11T16:32:44.179680Z"
    },
    "papermill": {
     "duration": 0.311172,
     "end_time": "2022-08-11T16:32:44.183849",
     "exception": false,
     "start_time": "2022-08-11T16:32:43.872677",
     "status": "completed"
    },
    "tags": []
   },
   "outputs": [
    {
     "data": {
      "text/plain": [
       "Text(0, 0.5, 'Closing values')"
      ]
     },
     "execution_count": 10,
     "metadata": {},
     "output_type": "execute_result"
    },
    {
     "data": {
      "image/png": "[encoded data removed]",
      "text/plain": [
       "<Figure size 1440x720 with 1 Axes>"
      ]
     },
     "metadata": {
      "needs_background": "light"
     },
     "output_type": "display_data"
    }
   ],
   "source": [
    "stock[\"close\"].plot(figsize=(20,10))\n",
    "plt.xticks(rotation=90)\n",
    "plt.ylabel(\"Closing values\")"
   ]
  },
  {
   "cell_type": "code",
   "execution_count": 11,
   "id": "f47fdaae",
   "metadata": {
    "execution": {
     "iopub.execute_input": "2022-08-11T16:32:44.205496Z",
     "iopub.status.busy": "2022-08-11T16:32:44.205071Z",
     "iopub.status.idle": "2022-08-11T16:32:44.299214Z",
     "shell.execute_reply": "2022-08-11T16:32:44.297896Z"
    },
    "papermill": {
     "duration": 0.107817,
     "end_time": "2022-08-11T16:32:44.301690",
     "exception": false,
     "start_time": "2022-08-11T16:32:44.193873",
     "status": "completed"
    },
    "tags": []
   },
   "outputs": [
    {
     "name": "stdout",
     "output_type": "stream",
     "text": [
      "[ 7.57815670e-01  7.82484896e-01 -5.40657196e-01 -3.32402016e-07]\n"
     ]
    }
   ],
   "source": [
    "from sklearn.linear_model import LinearRegression\n",
    "lnr=LinearRegression()\n",
    "lnr.fit(x_train,y_train)\n",
    "slope=lnr.coef_\n",
    "inter=lnr.intercept_\n",
    "print(slope)"
   ]
  },
  {
   "cell_type": "code",
   "execution_count": 12,
   "id": "e672e3c4",
   "metadata": {
    "execution": {
     "iopub.execute_input": "2022-08-11T16:32:44.323817Z",
     "iopub.status.busy": "2022-08-11T16:32:44.323059Z",
     "iopub.status.idle": "2022-08-11T16:32:44.330456Z",
     "shell.execute_reply": "2022-08-11T16:32:44.329608Z"
    },
    "papermill": {
     "duration": 0.020839,
     "end_time": "2022-08-11T16:32:44.332570",
     "exception": false,
     "start_time": "2022-08-11T16:32:44.311731",
     "status": "completed"
    },
    "tags": []
   },
   "outputs": [],
   "source": [
    "predicted_y=lnr.predict(x_test)"
   ]
  },
  {
   "cell_type": "code",
   "execution_count": 13,
   "id": "72748e79",
   "metadata": {
    "execution": {
     "iopub.execute_input": "2022-08-11T16:32:44.354322Z",
     "iopub.status.busy": "2022-08-11T16:32:44.353642Z",
     "iopub.status.idle": "2022-08-11T16:32:44.361583Z",
     "shell.execute_reply": "2022-08-11T16:32:44.360169Z"
    },
    "papermill": {
     "duration": 0.021508,
     "end_time": "2022-08-11T16:32:44.363893",
     "exception": false,
     "start_time": "2022-08-11T16:32:44.342385",
     "status": "completed"
    },
    "tags": []
   },
   "outputs": [
    {
     "name": "stdout",
     "output_type": "stream",
     "text": [
      "Mean absolute error 5.20259577183527\n",
      "Mean squared error 53.423469583414125\n",
      "Root Mean squared error 7.309136035361096\n"
     ]
    }
   ],
   "source": [
    "from sklearn.metrics import mean_absolute_error\n",
    "from sklearn.metrics import mean_squared_error\n",
    "print(\"Mean absolute error\",mean_absolute_error(y_test,predicted_y))\n",
    "print(\"Mean squared error\",mean_squared_error(y_test,predicted_y))\n",
    "print(\"Root Mean squared error\",np.sqrt(mean_squared_error(y_test,predicted_y)))"
   ]
  },
  {
   "cell_type": "code",
   "execution_count": 14,
   "id": "97387e59",
   "metadata": {
    "execution": {
     "iopub.execute_input": "2022-08-11T16:32:44.386563Z",
     "iopub.status.busy": "2022-08-11T16:32:44.385662Z",
     "iopub.status.idle": "2022-08-11T16:32:44.497628Z",
     "shell.execute_reply": "2022-08-11T16:32:44.495350Z"
    },
    "papermill": {
     "duration": 0.124957,
     "end_time": "2022-08-11T16:32:44.499608",
     "exception": true,
     "start_time": "2022-08-11T16:32:44.374651",
     "status": "failed"
    },
    "tags": []
   },
   "outputs": [
    {
     "name": "stdout",
     "output_type": "stream",
     "text": [
      "Enter high\n"
     ]
    },
    {
     "ename": "StdinNotImplementedError",
     "evalue": "raw_input was called, but this frontend does not support input requests.",
     "output_type": "error",
     "traceback": [
      "\u001b[0;31m---------------------------------------------------------------------------\u001b[0m",
      "\u001b[0;31mStdinNotImplementedError\u001b[0m                  Traceback (most recent call last)",
      "\u001b[0;32m/tmp/ipykernel_19/2530096310.py\u001b[0m in \u001b[0;36m<module>\u001b[0;34m\u001b[0m\n\u001b[1;32m      2\u001b[0m \u001b[0;32mfor\u001b[0m \u001b[0mv\u001b[0m \u001b[0;32min\u001b[0m \u001b[0mi\u001b[0m\u001b[0;34m.\u001b[0m\u001b[0mcolumns\u001b[0m\u001b[0;34m:\u001b[0m\u001b[0;34m\u001b[0m\u001b[0;34m\u001b[0m\u001b[0m\n\u001b[1;32m      3\u001b[0m     \u001b[0mprint\u001b[0m\u001b[0;34m(\u001b[0m\u001b[0;34m\"Enter\"\u001b[0m\u001b[0;34m,\u001b[0m\u001b[0mv\u001b[0m\u001b[0;34m)\u001b[0m\u001b[0;34m\u001b[0m\u001b[0;34m\u001b[0m\u001b[0m\n\u001b[0;32m----> 4\u001b[0;31m     \u001b[0mrecord\u001b[0m\u001b[0;34m=\u001b[0m\u001b[0mfloat\u001b[0m\u001b[0;34m(\u001b[0m\u001b[0minput\u001b[0m\u001b[0;34m(\u001b[0m\u001b[0;34m)\u001b[0m\u001b[0;34m)\u001b[0m\u001b[0;34m\u001b[0m\u001b[0;34m\u001b[0m\u001b[0m\n\u001b[0m\u001b[1;32m      5\u001b[0m     \u001b[0mlt\u001b[0m\u001b[0;34m.\u001b[0m\u001b[0mappend\u001b[0m\u001b[0;34m(\u001b[0m\u001b[0mrecord\u001b[0m\u001b[0;34m)\u001b[0m\u001b[0;34m\u001b[0m\u001b[0;34m\u001b[0m\u001b[0m\n\u001b[1;32m      6\u001b[0m \u001b[0muser_v\u001b[0m\u001b[0;34m=\u001b[0m\u001b[0mnp\u001b[0m\u001b[0;34m.\u001b[0m\u001b[0marray\u001b[0m\u001b[0;34m(\u001b[0m\u001b[0mlt\u001b[0m\u001b[0;34m)\u001b[0m\u001b[0;34m\u001b[0m\u001b[0;34m\u001b[0m\u001b[0m\n",
      "\u001b[0;32m/opt/conda/lib/python3.7/site-packages/ipykernel/kernelbase.py\u001b[0m in \u001b[0;36mraw_input\u001b[0;34m(self, prompt)\u001b[0m\n\u001b[1;32m   1173\u001b[0m         \u001b[0;32mif\u001b[0m \u001b[0;32mnot\u001b[0m \u001b[0mself\u001b[0m\u001b[0;34m.\u001b[0m\u001b[0m_allow_stdin\u001b[0m\u001b[0;34m:\u001b[0m\u001b[0;34m\u001b[0m\u001b[0;34m\u001b[0m\u001b[0m\n\u001b[1;32m   1174\u001b[0m             raise StdinNotImplementedError(\n\u001b[0;32m-> 1175\u001b[0;31m                 \u001b[0;34m\"raw_input was called, but this frontend does not support input requests.\"\u001b[0m\u001b[0;34m\u001b[0m\u001b[0;34m\u001b[0m\u001b[0m\n\u001b[0m\u001b[1;32m   1176\u001b[0m             )\n\u001b[1;32m   1177\u001b[0m         return self._input_request(\n",
      "\u001b[0;31mStdinNotImplementedError\u001b[0m: raw_input was called, but this frontend does not support input requests."
     ]
    }
   ],
   "source": [
    "lt=[]\n",
    "for v in i.columns:\n",
    "    print(\"Enter\",v)\n",
    "    record=float(input())\n",
    "    lt.append(record)\n",
    "user_v=np.array(lt)\n",
    "user_v=user_v.reshape(1,-1)"
   ]
  },
  {
   "cell_type": "code",
   "execution_count": null,
   "id": "e4dcdffd",
   "metadata": {
    "execution": {
     "iopub.execute_input": "2022-08-11T16:30:58.487968Z",
     "iopub.status.busy": "2022-08-11T16:30:58.487547Z",
     "iopub.status.idle": "2022-08-11T16:30:58.495843Z",
     "shell.execute_reply": "2022-08-11T16:30:58.494719Z",
     "shell.execute_reply.started": "2022-08-11T16:30:58.487929Z"
    },
    "papermill": {
     "duration": null,
     "end_time": null,
     "exception": null,
     "start_time": null,
     "status": "pending"
    },
    "tags": []
   },
   "outputs": [],
   "source": [
    "print(\"Closing price\",lnr.predict(user_v))"
   ]
  },
  {
   "cell_type": "code",
   "execution_count": null,
   "id": "6f3fb3cd",
   "metadata": {
    "execution": {
     "iopub.execute_input": "2022-08-11T16:30:58.498162Z",
     "iopub.status.busy": "2022-08-11T16:30:58.497227Z",
     "iopub.status.idle": "2022-08-11T16:30:58.773775Z",
     "shell.execute_reply": "2022-08-11T16:30:58.772517Z",
     "shell.execute_reply.started": "2022-08-11T16:30:58.498105Z"
    },
    "papermill": {
     "duration": null,
     "end_time": null,
     "exception": null,
     "start_time": null,
     "status": "pending"
    },
    "tags": []
   },
   "outputs": [],
   "source": [
    "import seaborn as sns\n",
    "plt.figure(figsize=(15,5))\n",
    "dataplot=sns.heatmap(stock.corr())\n",
    "plt.show()"
   ]
  },
  {
   "cell_type": "code",
   "execution_count": null,
   "id": "ddc1ab7d",
   "metadata": {
    "execution": {
     "iopub.execute_input": "2022-08-11T16:30:58.776938Z",
     "iopub.status.busy": "2022-08-11T16:30:58.775694Z",
     "iopub.status.idle": "2022-08-11T16:30:58.998824Z",
     "shell.execute_reply": "2022-08-11T16:30:58.997418Z",
     "shell.execute_reply.started": "2022-08-11T16:30:58.776886Z"
    },
    "papermill": {
     "duration": null,
     "end_time": null,
     "exception": null,
     "start_time": null,
     "status": "pending"
    },
    "tags": []
   },
   "outputs": [],
   "source": [
    "plt.figure(figsize=(5,5))\n",
    "plt.scatter(y_test,predicted_y,c='crimson')\n",
    "plt.xlabel('True values',fontsize=15)\n",
    "plt.ylabel('Predicted values',fontsize=15)\n",
    "plt.show()"
   ]
  },
  {
   "cell_type": "code",
   "execution_count": null,
   "id": "8a1ef581",
   "metadata": {
    "execution": {
     "iopub.execute_input": "2022-08-11T16:30:59.003725Z",
     "iopub.status.busy": "2022-08-11T16:30:59.003266Z",
     "iopub.status.idle": "2022-08-11T16:30:59.237047Z",
     "shell.execute_reply": "2022-08-11T16:30:59.235781Z",
     "shell.execute_reply.started": "2022-08-11T16:30:59.003687Z"
    },
    "papermill": {
     "duration": null,
     "end_time": null,
     "exception": null,
     "start_time": null,
     "status": "pending"
    },
    "tags": []
   },
   "outputs": [],
   "source": [
    "plt.figure(figsize=(15,5))\n",
    "plt.plot(predicted_y,c='red')\n",
    "plt.ylabel('Y values',fontsize=5)\n",
    "plt.show()"
   ]
  },
  {
   "cell_type": "code",
   "execution_count": null,
   "id": "bc59b115",
   "metadata": {
    "execution": {
     "iopub.execute_input": "2022-08-11T16:30:59.239532Z",
     "iopub.status.busy": "2022-08-11T16:30:59.238787Z",
     "iopub.status.idle": "2022-08-11T16:30:59.252584Z",
     "shell.execute_reply": "2022-08-11T16:30:59.251496Z",
     "shell.execute_reply.started": "2022-08-11T16:30:59.239494Z"
    },
    "papermill": {
     "duration": null,
     "end_time": null,
     "exception": null,
     "start_time": null,
     "status": "pending"
    },
    "tags": []
   },
   "outputs": [],
   "source": [
    "from sklearn.preprocessing import MinMaxScaler\n",
    "mms=MinMaxScaler()\n",
    "x_train_norm=mms.fit_transform(x_train)\n",
    "x_test_norm=mms.fit_transform(x_test)"
   ]
  },
  {
   "cell_type": "code",
   "execution_count": null,
   "id": "0acbf511",
   "metadata": {
    "execution": {
     "iopub.execute_input": "2022-08-11T16:30:59.254880Z",
     "iopub.status.busy": "2022-08-11T16:30:59.254484Z",
     "iopub.status.idle": "2022-08-11T16:30:59.264720Z",
     "shell.execute_reply": "2022-08-11T16:30:59.263869Z",
     "shell.execute_reply.started": "2022-08-11T16:30:59.254833Z"
    },
    "papermill": {
     "duration": null,
     "end_time": null,
     "exception": null,
     "start_time": null,
     "status": "pending"
    },
    "tags": []
   },
   "outputs": [],
   "source": [
    "from sklearn.metrics import r2_score\n",
    "r2_score(y_test,predicted_y)"
   ]
  },
  {
   "cell_type": "code",
   "execution_count": null,
   "id": "ede2b629",
   "metadata": {
    "execution": {
     "iopub.execute_input": "2022-08-11T16:30:59.266821Z",
     "iopub.status.busy": "2022-08-11T16:30:59.266385Z",
     "iopub.status.idle": "2022-08-11T16:30:59.278640Z",
     "shell.execute_reply": "2022-08-11T16:30:59.277220Z",
     "shell.execute_reply.started": "2022-08-11T16:30:59.266777Z"
    },
    "papermill": {
     "duration": null,
     "end_time": null,
     "exception": null,
     "start_time": null,
     "status": "pending"
    },
    "tags": []
   },
   "outputs": [],
   "source": [
    "lnr=LinearRegression()\n",
    "lnr.fit(x_train_norm,y_train)\n",
    "predict_y=lnr.predict(x_test_norm)\n",
    "predict_y"
   ]
  },
  {
   "cell_type": "code",
   "execution_count": null,
   "id": "98dd82fb",
   "metadata": {
    "execution": {
     "iopub.execute_input": "2022-08-11T16:31:14.575114Z",
     "iopub.status.busy": "2022-08-11T16:31:14.574675Z",
     "iopub.status.idle": "2022-08-11T16:31:14.584316Z",
     "shell.execute_reply": "2022-08-11T16:31:14.583144Z",
     "shell.execute_reply.started": "2022-08-11T16:31:14.575077Z"
    },
    "papermill": {
     "duration": null,
     "end_time": null,
     "exception": null,
     "start_time": null,
     "status": "pending"
    },
    "tags": []
   },
   "outputs": [],
   "source": [
    "from sklearn.metrics import r2_score\n",
    "r2_score(y_test,predict_y)"
   ]
  },
  {
   "cell_type": "code",
   "execution_count": null,
   "id": "45f74dce",
   "metadata": {
    "papermill": {
     "duration": null,
     "end_time": null,
     "exception": null,
     "start_time": null,
     "status": "pending"
    },
    "tags": []
   },
   "outputs": [],
   "source": []
  }
 ],
 "metadata": {
  "kernelspec": {
   "display_name": "Python 3",
   "language": "python",
   "name": "python3"
  },
  "language_info": {
   "codemirror_mode": {
    "name": "ipython",
    "version": 3
   },
   "file_extension": ".py",
   "mimetype": "text/x-python",
   "name": "python",
   "nbconvert_exporter": "python",
   "pygments_lexer": "ipython3",
   "version": "3.7.12"
  },
  "papermill": {
   "default_parameters": {},
   "duration": 11.998741,
   "end_time": "2022-08-11T16:32:45.231590",
   "environment_variables": {},
   "exception": true,
   "input_path": "__notebook__.ipynb",
   "output_path": "__notebook__.ipynb",
   "parameters": {},
   "start_time": "2022-08-11T16:32:33.232849",
   "version": "2.3.4"
  }
 },
 "nbformat": 4,
 "nbformat_minor": 5
}
